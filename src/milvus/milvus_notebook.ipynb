{
 "cells": [
  {
   "cell_type": "code",
   "execution_count": 9,
   "outputs": [
    {
     "name": "stdout",
     "output_type": "stream",
     "text": [
      "\n",
      "=== start connecting to Milvus     ===\n",
      "\n",
      "Does collection hello_milvus exist in Milvus: True\n"
     ]
    }
   ],
   "source": [
    "# hello_milvus.py demonstrates the basic operations of PyMilvus, a Python SDK of Milvus.\n",
    "# 1. connect to Milvus\n",
    "# 2. create collection\n",
    "# 3. insert data\n",
    "# 4. create index\n",
    "# 5. search, query, and hybrid search on entities\n",
    "# 6. delete entities by PK\n",
    "# 7. drop collection\n",
    "import time\n",
    "import numpy as np\n",
    "from pymilvus import (\n",
    "    connections,\n",
    "    utility,\n",
    "    FieldSchema,\n",
    "    CollectionSchema,\n",
    "    DataType,\n",
    "    Collection,\n",
    ")\n",
    "\n",
    "fmt = \"\\n=== {:30} ===\\n\"\n",
    "search_latency_fmt = \"search latency = {:.4f}s\"\n",
    "num_entities, dim = 3000, 8\n",
    "\n",
    "#################################################################################\n",
    "# 1. connect to Milvus\n",
    "# Add a new connection alias `default` for Milvus server in `localhost:19530`\n",
    "# Actually the \"default\" alias is a buildin in PyMilvus.\n",
    "# If the address of Milvus is the same as `localhost:19530`, you can omit all\n",
    "# parameters and call the method as: `connections.connect()`.\n",
    "#\n",
    "# Note: the `using` parameter of the following methods is default to \"default\".\n",
    "print(fmt.format(\"start connecting to Milvus\"))\n",
    "connections.connect(\"default\", host=\"localhost\", port=\"19530\")\n",
    "\n",
    "has = utility.has_collection(\"hello_milvus\")\n",
    "print(f\"Does collection hello_milvus exist in Milvus: {has}\")\n"
   ],
   "metadata": {
    "collapsed": false
   }
  },
  {
   "cell_type": "code",
   "execution_count": 10,
   "outputs": [
    {
     "name": "stdout",
     "output_type": "stream",
     "text": [
      "\n",
      "=== Create collection `hello_milvus` ===\n",
      "\n",
      "{'auto_id': False, 'description': 'hello_milvus is the simplest demo to introduce the APIs', 'fields': [{'name': 'pk', 'description': 'primary key', 'type': <DataType.VARCHAR: 21>, 'params': {'max_length': 100}, 'is_primary': True, 'auto_id': False}, {'name': 'random', 'description': '', 'type': <DataType.DOUBLE: 11>}, {'name': 'embeddings', 'description': '', 'type': <DataType.FLOAT_VECTOR: 101>, 'params': {'dim': 8}}]}\n",
      "<Collection>:\n",
      "-------------\n",
      "<name>: hello_milvus\n",
      "<description>: hello_milvus is the simplest demo to introduce the APIs\n",
      "<schema>: {\n",
      "  auto_id: False\n",
      "  description: hello_milvus is the simplest demo to introduce the APIs\n",
      "  fields: [{\n",
      "    name: pk\n",
      "    description: primary key\n",
      "    type: 21\n",
      "    params: {'max_length': 100}\n",
      "    is_primary: True\n",
      "    auto_id: False\n",
      "  }, {\n",
      "    name: random\n",
      "    description: \n",
      "    type: 11\n",
      "  }, {\n",
      "    name: embeddings\n",
      "    description: \n",
      "    type: 101\n",
      "    params: {'dim': 8}\n",
      "  }]\n",
      "}\n",
      "\n"
     ]
    }
   ],
   "source": [
    "#################################################################################\n",
    "# 2. create collection\n",
    "# We're going to create a collection with 3 fields.\n",
    "# +-+------------+------------+------------------+------------------------------+\n",
    "# | | field name | field type | other attributes |       field description      |\n",
    "# +-+------------+------------+------------------+------------------------------+\n",
    "# |1|    \"pk\"    |   VarChar  |  is_primary=True |      \"primary field\"         |\n",
    "# | |            |            |   auto_id=False  |                              |\n",
    "# +-+------------+------------+------------------+------------------------------+\n",
    "# |2|  \"random\"  |    Double  |                  |      \"a double field\"        |\n",
    "# +-+------------+------------+------------------+------------------------------+\n",
    "# |3|\"embeddings\"| FloatVector|     dim=8        |  \"float vector with dim 8\"   |\n",
    "# +-+------------+------------+------------------+------------------------------+\n",
    "fields = [\n",
    "    FieldSchema(name=\"pk\", dtype=DataType.VARCHAR, is_primary=True, auto_id=False, max_length=100,\n",
    "                description=\"primary key\"),\n",
    "    FieldSchema(name=\"random\", dtype=DataType.DOUBLE),\n",
    "    FieldSchema(name=\"embeddings\", dtype=DataType.FLOAT_VECTOR, dim=dim)\n",
    "]\n",
    "\n",
    "schema = CollectionSchema(fields, \"hello_milvus is the simplest demo to introduce the APIs\")\n",
    "\n",
    "print(fmt.format(\"Create collection `hello_milvus`\"))\n",
    "print(schema.to_dict())\n",
    "hello_milvus = Collection(\"hello_milvus\", schema, consistency_level=\"Strong\")\n",
    "print(hello_milvus)\n"
   ],
   "metadata": {
    "collapsed": false
   }
  },
  {
   "cell_type": "code",
   "execution_count": 11,
   "outputs": [
    {
     "name": "stdout",
     "output_type": "stream",
     "text": [
      "\n",
      "=== Start inserting entities       ===\n",
      "\n",
      "Number of entities in Milvus: 3000\n"
     ]
    }
   ],
   "source": [
    "\n",
    "################################################################################\n",
    "# 3. insert data\n",
    "# We are going to insert 3000 rows of data into `hello_milvus`\n",
    "# Data to be inserted must be organized in fields.\n",
    "#\n",
    "# The insert() method returns:\n",
    "# - either automatically generated primary keys by Milvus if auto_id=True in the schema;\n",
    "# - or the existing primary key field from the entities if auto_id=False in the schema.\n",
    "\n",
    "print(fmt.format(\"Start inserting entities\"))\n",
    "rng = np.random.default_rng(seed=19530)\n",
    "entities = [\n",
    "    # provide the pk field because `auto_id` is set to False\n",
    "    [str(i) for i in range(num_entities)],\n",
    "    rng.random(num_entities).tolist(),  # field random, only supports list\n",
    "    rng.random((num_entities, dim)),    # field embeddings, supports numpy.ndarray and list\n",
    "]\n",
    "\n",
    "insert_result = hello_milvus.insert(entities)\n",
    "\n",
    "hello_milvus.flush()\n",
    "print(f\"Number of entities in Milvus: {hello_milvus.num_entities}\")  # check the num_entites\n"
   ],
   "metadata": {
    "collapsed": false
   }
  },
  {
   "cell_type": "code",
   "execution_count": 12,
   "outputs": [
    {
     "name": "stdout",
     "output_type": "stream",
     "text": [
      "\n",
      "=== Start Creating index IVF_FLAT  ===\n",
      "\n"
     ]
    },
    {
     "data": {
      "text/plain": "Status(code=0, message=)"
     },
     "execution_count": 12,
     "metadata": {},
     "output_type": "execute_result"
    }
   ],
   "source": [
    "\n",
    "################################################################################\n",
    "# 4. create index\n",
    "# We are going to create an IVF_FLAT index for hello_milvus collection.\n",
    "# create_index() can only be applied to `FloatVector` and `BinaryVector` fields.\n",
    "print(fmt.format(\"Start Creating index IVF_FLAT\"))\n",
    "index = {\n",
    "    \"index_type\": \"IVF_FLAT\",\n",
    "    \"metric_type\": \"L2\",\n",
    "    \"params\": {\"nlist\": 128},\n",
    "}\n",
    "\n",
    "hello_milvus.create_index(\"embeddings\", index)\n"
   ],
   "metadata": {
    "collapsed": false
   }
  },
  {
   "cell_type": "code",
   "execution_count": 13,
   "outputs": [
    {
     "name": "stdout",
     "output_type": "stream",
     "text": [
      "\n",
      "=== Start loading                  ===\n",
      "\n",
      "\n",
      "=== Start searching based on vector similarity ===\n",
      "\n",
      "hit: id: 2998, distance: 0.0, entity: {'random': 0.9728033590489911}, random field: 0.9728033590489911\n",
      "hit: id: 1262, distance: 0.08883658051490784, entity: {'random': 0.2978858685751561}, random field: 0.2978858685751561\n",
      "hit: id: 1265, distance: 0.09590047597885132, entity: {'random': 0.3042039939240304}, random field: 0.3042039939240304\n",
      "hit: id: 2999, distance: 0.0, entity: {'random': 0.02316334456872482}, random field: 0.02316334456872482\n",
      "hit: id: 1580, distance: 0.05628091096878052, entity: {'random': 0.3855988746044062}, random field: 0.3855988746044062\n",
      "hit: id: 2377, distance: 0.08096685260534286, entity: {'random': 0.8745922204004368}, random field: 0.8745922204004368\n",
      "search latency = 0.3813s\n",
      "\n",
      "=== Start querying with `random > 0.5` ===\n",
      "\n",
      "query result:\n",
      "-{'random': 0.6378742006852851, 'embeddings': [0.20963514, 0.39746657, 0.12019053, 0.6947492, 0.9535575, 0.5454552, 0.82360446, 0.21096309], 'pk': '0'}\n",
      "search latency = 0.4557s\n",
      "query pagination(limit=4):\n",
      "\t[{'random': 0.6378742006852851, 'pk': '0'}, {'random': 0.5763523024650556, 'pk': '100'}, {'random': 0.9425935891639464, 'pk': '1000'}, {'random': 0.7893211256191387, 'pk': '1001'}]\n",
      "query pagination(offset=1, limit=3):\n",
      "\t[{'random': 0.5763523024650556, 'pk': '100'}, {'random': 0.9425935891639464, 'pk': '1000'}, {'random': 0.7893211256191387, 'pk': '1001'}]\n",
      "\n",
      "=== Start hybrid searching with `random > 0.5` ===\n",
      "\n",
      "hit: id: 2998, distance: 0.0, entity: {'random': 0.9728033590489911}, random field: 0.9728033590489911\n",
      "hit: id: 747, distance: 0.14606499671936035, entity: {'random': 0.5648774800635661}, random field: 0.5648774800635661\n",
      "hit: id: 2527, distance: 0.1530652642250061, entity: {'random': 0.8928974315571507}, random field: 0.8928974315571507\n",
      "hit: id: 2377, distance: 0.08096685260534286, entity: {'random': 0.8745922204004368}, random field: 0.8745922204004368\n",
      "hit: id: 2034, distance: 0.20354536175727844, entity: {'random': 0.5526117606328499}, random field: 0.5526117606328499\n",
      "hit: id: 958, distance: 0.21908017992973328, entity: {'random': 0.6647383716417955}, random field: 0.6647383716417955\n",
      "search latency = 0.3976s\n"
     ]
    }
   ],
   "source": [
    "\n",
    "################################################################################\n",
    "# 5. search, query, and hybrid search\n",
    "# After data were inserted into Milvus and indexed, you can perform:\n",
    "# - search based on vector similarity\n",
    "# - query based on scalar filtering(boolean, int, etc.)\n",
    "# - hybrid search based on vector similarity and scalar filtering.\n",
    "#\n",
    "\n",
    "# Before conducting a search or a query, you need to load the data in `hello_milvus` into memory.\n",
    "print(fmt.format(\"Start loading\"))\n",
    "hello_milvus.load()\n",
    "\n",
    "# -----------------------------------------------------------------------------\n",
    "# search based on vector similarity\n",
    "print(fmt.format(\"Start searching based on vector similarity\"))\n",
    "vectors_to_search = entities[-1][-2:]\n",
    "search_params = {\n",
    "    \"metric_type\": \"L2\",\n",
    "    \"params\": {\"nprobe\": 10},\n",
    "}\n",
    "\n",
    "start_time = time.time()\n",
    "result = hello_milvus.search(vectors_to_search, \"embeddings\", search_params, limit=3, output_fields=[\"random\"])\n",
    "end_time = time.time()\n",
    "\n",
    "for hits in result:\n",
    "    for hit in hits:\n",
    "        print(f\"hit: {hit}, random field: {hit.entity.get('random')}\")\n",
    "print(search_latency_fmt.format(end_time - start_time))\n",
    "\n",
    "# -----------------------------------------------------------------------------\n",
    "# query based on scalar filtering(boolean, int, etc.)\n",
    "print(fmt.format(\"Start querying with `random > 0.5`\"))\n",
    "\n",
    "start_time = time.time()\n",
    "result = hello_milvus.query(expr=\"random > 0.5\", output_fields=[\"random\", \"embeddings\"])\n",
    "end_time = time.time()\n",
    "\n",
    "print(f\"query result:\\n-{result[0]}\")\n",
    "print(search_latency_fmt.format(end_time - start_time))\n",
    "\n",
    "# -----------------------------------------------------------------------------\n",
    "# pagination\n",
    "r1 = hello_milvus.query(expr=\"random > 0.5\", limit=4, output_fields=[\"random\"])\n",
    "r2 = hello_milvus.query(expr=\"random > 0.5\", offset=1, limit=3, output_fields=[\"random\"])\n",
    "print(f\"query pagination(limit=4):\\n\\t{r1}\")\n",
    "print(f\"query pagination(offset=1, limit=3):\\n\\t{r2}\")\n",
    "\n",
    "\n",
    "# -----------------------------------------------------------------------------\n",
    "# hybrid search\n",
    "print(fmt.format(\"Start hybrid searching with `random > 0.5`\"))\n",
    "\n",
    "start_time = time.time()\n",
    "result = hello_milvus.search(vectors_to_search, \"embeddings\", search_params, limit=3, expr=\"random > 0.5\", output_fields=[\"random\"])\n",
    "end_time = time.time()\n",
    "\n",
    "for hits in result:\n",
    "    for hit in hits:\n",
    "        print(f\"hit: {hit}, random field: {hit.entity.get('random')}\")\n",
    "print(search_latency_fmt.format(end_time - start_time))\n"
   ],
   "metadata": {
    "collapsed": false
   }
  },
  {
   "cell_type": "code",
   "execution_count": 14,
   "outputs": [
    {
     "name": "stdout",
     "output_type": "stream",
     "text": [
      "\n",
      "=== Start deleting with expr `pk in [\"0\" , \"1\"]` ===\n",
      "\n",
      "query before delete by expr=`pk in [\"0\" , \"1\"]` -> result: \n",
      "-{'random': 0.6378742006852851, 'embeddings': [0.20963514, 0.39746657, 0.12019053, 0.6947492, 0.9535575, 0.5454552, 0.82360446, 0.21096309], 'pk': '0'}\n",
      "-{'random': 0.43925103574669633, 'embeddings': [0.52323616, 0.8035404, 0.77824664, 0.80369574, 0.4914803, 0.8265614, 0.6145269, 0.80234545], 'pk': '1'}\n",
      "\n",
      "query after delete by expr=`pk in [\"0\" , \"1\"]` -> result: []\n",
      "\n"
     ]
    }
   ],
   "source": [
    "\n",
    "###############################################################################\n",
    "# 6. delete entities by PK\n",
    "# You can delete entities by their PK values using boolean expressions.\n",
    "ids = insert_result.primary_keys\n",
    "\n",
    "expr = f'pk in [\"{ids[0]}\" , \"{ids[1]}\"]'\n",
    "print(fmt.format(f\"Start deleting with expr `{expr}`\"))\n",
    "\n",
    "result = hello_milvus.query(expr=expr, output_fields=[\"random\", \"embeddings\"])\n",
    "print(f\"query before delete by expr=`{expr}` -> result: \\n-{result[0]}\\n-{result[1]}\\n\")\n",
    "\n",
    "hello_milvus.delete(expr)\n",
    "\n",
    "result = hello_milvus.query(expr=expr, output_fields=[\"random\", \"embeddings\"])\n",
    "print(f\"query after delete by expr=`{expr}` -> result: {result}\\n\")\n",
    "\n"
   ],
   "metadata": {
    "collapsed": false
   }
  },
  {
   "cell_type": "code",
   "execution_count": 15,
   "outputs": [
    {
     "name": "stdout",
     "output_type": "stream",
     "text": [
      "\n",
      "=== Drop collection `hello_milvus` ===\n",
      "\n"
     ]
    }
   ],
   "source": [
    "\n",
    "###############################################################################\n",
    "# 7. drop collection\n",
    "# Finally, drop the hello_milvus collection\n",
    "print(fmt.format(\"Drop collection `hello_milvus`\"))\n",
    "utility.drop_collection(\"hello_milvus\")\n"
   ],
   "metadata": {
    "collapsed": false
   }
  }
 ],
 "metadata": {
  "kernelspec": {
   "display_name": "Python 3",
   "language": "python",
   "name": "python3"
  },
  "language_info": {
   "codemirror_mode": {
    "name": "ipython",
    "version": 2
   },
   "file_extension": ".py",
   "mimetype": "text/x-python",
   "name": "python",
   "nbconvert_exporter": "python",
   "pygments_lexer": "ipython2",
   "version": "2.7.6"
  }
 },
 "nbformat": 4,
 "nbformat_minor": 0
}
